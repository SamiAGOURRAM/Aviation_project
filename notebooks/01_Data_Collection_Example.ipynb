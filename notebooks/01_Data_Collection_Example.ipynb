{
 "cells": [
  {
   "cell_type": "code",
   "execution_count": 1,
   "id": "ecbc2141",
   "metadata": {},
   "outputs": [
    {
     "ename": "NameError",
     "evalue": "name '__file__' is not defined",
     "output_type": "error",
     "traceback": [
      "\u001b[1;31m---------------------------------------------------------------------------\u001b[0m",
      "\u001b[1;31mNameError\u001b[0m                                 Traceback (most recent call last)",
      "Cell \u001b[1;32mIn[1], line 8\u001b[0m\n\u001b[0;32m      5\u001b[0m \u001b[38;5;28;01mfrom\u001b[39;00m \u001b[38;5;21;01mdotenv\u001b[39;00m \u001b[38;5;28;01mimport\u001b[39;00m load_dotenv\n\u001b[0;32m      7\u001b[0m \u001b[38;5;66;03m# Add the project root to the path\u001b[39;00m\n\u001b[1;32m----> 8\u001b[0m sys\u001b[38;5;241m.\u001b[39mpath\u001b[38;5;241m.\u001b[39minsert(\u001b[38;5;241m0\u001b[39m, os\u001b[38;5;241m.\u001b[39mpath\u001b[38;5;241m.\u001b[39mabspath(os\u001b[38;5;241m.\u001b[39mpath\u001b[38;5;241m.\u001b[39mjoin(os\u001b[38;5;241m.\u001b[39mpath\u001b[38;5;241m.\u001b[39mdirname(\u001b[38;5;18;43m__file__\u001b[39;49m), \u001b[38;5;124m'\u001b[39m\u001b[38;5;124m..\u001b[39m\u001b[38;5;124m'\u001b[39m)))\n\u001b[0;32m     10\u001b[0m \u001b[38;5;28;01mfrom\u001b[39;00m \u001b[38;5;21;01maviation_assistant\u001b[39;00m\u001b[38;5;21;01m.\u001b[39;00m\u001b[38;5;21;01mdata\u001b[39;00m\u001b[38;5;21;01m.\u001b[39;00m\u001b[38;5;21;01mconnectors\u001b[39;00m\u001b[38;5;21;01m.\u001b[39;00m\u001b[38;5;21;01mavwx_connector\u001b[39;00m \u001b[38;5;28;01mimport\u001b[39;00m AVWXConnector\n\u001b[0;32m     12\u001b[0m \u001b[38;5;66;03m# Configure logging\u001b[39;00m\n",
      "\u001b[1;31mNameError\u001b[0m: name '__file__' is not defined"
     ]
    }
   ],
   "source": [
    "# Setup cell\n",
    "import os\n",
    "import sys\n",
    "import logging\n",
    "from dotenv import load_dotenv\n",
    "\n",
    "# Add the project root to the path\n",
    "sys.path.insert(0, os.path.abspath(os.path.join(os.path.dirname(__file__), '..')))\n",
    "\n",
    "from aviation_assistant.data.connectors.avwx_connector import AVWXConnector\n",
    "\n",
    "# Configure logging\n",
    "logging.basicConfig(level=logging.INFO)\n",
    "logger = logging.getLogger(__name__)\n",
    "\n",
    "# Load API keys from environment variables\n",
    "load_dotenv()"
   ]
  },
  {
   "cell_type": "code",
   "execution_count": null,
   "id": "d4d3e0a4",
   "metadata": {},
   "outputs": [],
   "source": [
    "# Test AVWX connector\n",
    "api_key = os.getenv(\"AVWX_API_KEY\")\n",
    "if not api_key:\n",
    "    logger.error(\"AVWX_API_KEY not found in environment variables\")\n",
    "else:\n",
    "    connector = AVWXConnector(api_key=api_key)\n",
    "    \n",
    "    # Test get_station\n",
    "    station_id = \"KJFK\"\n",
    "    print(f\"Getting information for station {station_id}...\")\n",
    "    station_info = connector.get_station(station_id)\n",
    "    print(f\"Station info:\")\n",
    "    import json\n",
    "    print(json.dumps(station_info, indent=2))"
   ]
  },
  {
   "cell_type": "code",
   "execution_count": null,
   "id": "c1c4c155",
   "metadata": {},
   "outputs": [],
   "source": [
    "# Test get_metar\n",
    "station_id = \"KJFK\"\n",
    "print(f\"Getting METAR for station {station_id}...\")\n",
    "metar_info = connector.get_metar(station_id)\n",
    "print(f\"METAR info:\")\n",
    "print(json.dumps(metar_info, indent=2))"
   ]
  },
  {
   "cell_type": "code",
   "execution_count": null,
   "id": "be997115",
   "metadata": {},
   "outputs": [],
   "source": [
    "# Test get_taf\n",
    "station_id = \"KJFK\"\n",
    "print(f\"Getting TAF for station {station_id}...\")\n",
    "taf_info = connector.get_taf(station_id)\n",
    "print(f\"TAF info:\")\n",
    "print(json.dumps(taf_info, indent=2))"
   ]
  }
 ],
 "metadata": {
  "kernelspec": {
   "display_name": "Python 3",
   "language": "python",
   "name": "python3"
  },
  "language_info": {
   "codemirror_mode": {
    "name": "ipython",
    "version": 3
   },
   "file_extension": ".py",
   "mimetype": "text/x-python",
   "name": "python",
   "nbconvert_exporter": "python",
   "pygments_lexer": "ipython3",
   "version": "3.11.2"
  }
 },
 "nbformat": 4,
 "nbformat_minor": 5
}
